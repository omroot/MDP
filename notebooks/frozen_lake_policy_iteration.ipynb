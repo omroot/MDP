{
 "cells": [
  {
   "cell_type": "code",
   "execution_count": null,
   "id": "9795c5a7-2021-4d5f-8a99-d946c039fbed",
   "metadata": {},
   "outputs": [],
   "source": []
  },
  {
   "cell_type": "code",
   "execution_count": null,
   "id": "f6df70f2-2919-4f58-81a5-e00d80834ee8",
   "metadata": {},
   "outputs": [],
   "source": []
  },
  {
   "cell_type": "code",
   "execution_count": 1,
   "id": "894d4534-fc4f-4ca0-b60e-16bd85a57827",
   "metadata": {},
   "outputs": [],
   "source": [
    "%load_ext autoreload\n",
    "%autoreload 2"
   ]
  },
  {
   "cell_type": "code",
   "execution_count": 2,
   "id": "89a7950d-0d27-4c5d-95f1-d11c9acf6a98",
   "metadata": {},
   "outputs": [],
   "source": [
    "%matplotlib inline"
   ]
  },
  {
   "cell_type": "code",
   "execution_count": 3,
   "id": "adeb49a5-aa3d-4cc9-8091-aa49429eff9a",
   "metadata": {},
   "outputs": [],
   "source": [
    "import sys"
   ]
  },
  {
   "cell_type": "code",
   "execution_count": 4,
   "id": "970eb167-a063-460e-b3df-464169cba597",
   "metadata": {},
   "outputs": [],
   "source": [
    "sys.path.append('../')"
   ]
  },
  {
   "cell_type": "code",
   "execution_count": null,
   "id": "8e6773f9-eaf8-4eae-9ec6-da6001bb8a4f",
   "metadata": {},
   "outputs": [],
   "source": []
  },
  {
   "cell_type": "code",
   "execution_count": 5,
   "id": "50a2a508-5c74-4d78-b7f0-25a54e994eea",
   "metadata": {},
   "outputs": [],
   "source": [
    "import gym"
   ]
  },
  {
   "cell_type": "code",
   "execution_count": 6,
   "id": "f927d9a6-1c3a-48aa-abbf-5da5f2474cb4",
   "metadata": {},
   "outputs": [],
   "source": [
    "import random\n",
    "import numpy as np\n",
    "import pandas as pd"
   ]
  },
  {
   "cell_type": "code",
   "execution_count": null,
   "id": "3d187083-8c0a-41a7-ba76-943c4352b236",
   "metadata": {},
   "outputs": [],
   "source": []
  },
  {
   "cell_type": "code",
   "execution_count": null,
   "id": "997f290c-fa72-433a-882b-72f8212038e4",
   "metadata": {},
   "outputs": [],
   "source": []
  },
  {
   "cell_type": "code",
   "execution_count": 7,
   "id": "d9c1e70e-15ec-427a-a2a3-0fce4bb12c7a",
   "metadata": {},
   "outputs": [],
   "source": [
    "from mdp.policyEvaluation import PolicyEvaluator\n"
   ]
  },
  {
   "cell_type": "code",
   "execution_count": 8,
   "id": "2c54bbcd-ccb8-4c99-b1e8-ab21b218345d",
   "metadata": {},
   "outputs": [],
   "source": [
    "from mdp.policyIteration import PolicyIterator"
   ]
  },
  {
   "cell_type": "code",
   "execution_count": 9,
   "id": "11ae6dee-f972-418b-b2eb-10f8097db906",
   "metadata": {},
   "outputs": [],
   "source": [
    "from mdp.utils.env import make_env\n",
    "from mdp.utils.generate import generate_arbitrary_policy"
   ]
  },
  {
   "cell_type": "code",
   "execution_count": 10,
   "id": "38e50b05-7ce1-41a5-9b51-d09e6979c316",
   "metadata": {},
   "outputs": [],
   "source": [
    "import matplotlib.pyplot as plt "
   ]
  },
  {
   "cell_type": "code",
   "execution_count": 11,
   "id": "376e9500-e64c-4b03-9ff6-792dafc549c6",
   "metadata": {},
   "outputs": [],
   "source": [
    "seed = 0  # Random number generator seed\n",
    "gamma = 0.95  # Discount factor\n",
    "num_iters = 10  # Number of iterations\n",
    "random.seed(seed)  # Set the random seed to ensure results can be reproduced\n",
    "np.random.seed(seed)"
   ]
  },
  {
   "cell_type": "markdown",
   "id": "4ce9448d-2f65-471f-9bdb-f083a6f6a4cd",
   "metadata": {},
   "source": [
    "##  Load and set-up Environment "
   ]
  },
  {
   "cell_type": "code",
   "execution_count": 12,
   "id": "7b3b0b67-9048-489b-ad73-62a72f8405ed",
   "metadata": {},
   "outputs": [],
   "source": [
    "# Now set up the environment\n",
    "env_info = make_env('FrozenLake-v1', seed=seed)"
   ]
  },
  {
   "cell_type": "code",
   "execution_count": 13,
   "id": "c6c89f32-299b-410e-be0e-bd8ec4925da1",
   "metadata": {},
   "outputs": [],
   "source": [
    "env=env_info['env']"
   ]
  },
  {
   "cell_type": "markdown",
   "id": "aadc3a9f-b63a-42ab-954f-1bd33ac02055",
   "metadata": {},
   "source": [
    "## Policy Evaluation "
   ]
  },
  {
   "cell_type": "markdown",
   "id": "e5fada21-df0d-40e1-81ec-d8fcb273bd00",
   "metadata": {},
   "source": [
    "### Generate an arbitrary policy"
   ]
  },
  {
   "cell_type": "code",
   "execution_count": 14,
   "id": "66fb87f9-3a55-4cdf-9e9e-6d40b25006b1",
   "metadata": {},
   "outputs": [],
   "source": [
    "policy = generate_arbitrary_policy(env)"
   ]
  },
  {
   "cell_type": "code",
   "execution_count": 15,
   "id": "ed103c64-53e3-4607-bafa-87fd68bec164",
   "metadata": {},
   "outputs": [
    {
     "data": {
      "text/plain": [
       "{0: {0: 0.2275676958864965,\n",
       "  1: 0.29655610706227664,\n",
       "  2: 0.2499382243253878,\n",
       "  3: 0.22593797272583904},\n",
       " 1: {0: 0.17660310472827,\n",
       "  1: 0.2692449274061814,\n",
       "  2: 0.18241091619631808,\n",
       "  3: 0.37174105166923044},\n",
       " 2: {0: 0.3612302752574101,\n",
       "  1: 0.1437335664175093,\n",
       "  2: 0.2967791899378672,\n",
       "  3: 0.19825696838721354},\n",
       " 3: {0: 0.34389290839676195,\n",
       "  1: 0.5603541372383523,\n",
       "  2: 0.043005070953708896,\n",
       "  3: 0.05274788341117701},\n",
       " 4: {0: 0.008084102239973011,\n",
       "  1: 0.3329138215977038,\n",
       "  2: 0.31113735655710123,\n",
       "  3: 0.34786471960522186},\n",
       " 5: {0: 0.3240688320611365,\n",
       "  1: 0.26464084246212655,\n",
       "  2: 0.15281859279728796,\n",
       "  3: 0.258471732679449},\n",
       " 6: {0: 0.06406309990748013,\n",
       "  1: 0.34661190718973506,\n",
       "  2: 0.07764701376380721,\n",
       "  3: 0.5116779791389775},\n",
       " 7: {0: 0.2641869271128106,\n",
       "  1: 0.20992357194778705,\n",
       "  2: 0.13393189419097806,\n",
       "  3: 0.3919576067484244},\n",
       " 8: {0: 0.2746223369775663,\n",
       "  1: 0.3422219571717576,\n",
       "  2: 0.011312276990131154,\n",
       "  3: 0.371843428860545},\n",
       " 9: {0: 0.21442448354447244,\n",
       "  1: 0.21611938909249173,\n",
       "  2: 0.33060628725117847,\n",
       "  3: 0.23884984011185742},\n",
       " 10: {0: 0.23128455030733402,\n",
       "  1: 0.28115860247602736,\n",
       "  2: 0.4488116037864071,\n",
       "  3: 0.03874524343023143},\n",
       " 11: {0: 0.3976628910051098,\n",
       "  1: 0.3999716660595614,\n",
       "  2: 0.12547317602343622,\n",
       "  3: 0.07689226691189269},\n",
       " 12: {0: 0.18687206637534595,\n",
       "  1: 0.21547645647538707,\n",
       "  2: 0.3378068217912001,\n",
       "  3: 0.25984465535806683},\n",
       " 13: {0: 0.6766880096318167,\n",
       "  1: 0.06986475887901912,\n",
       "  2: 0.14300701910292204,\n",
       "  3: 0.11044021238624196},\n",
       " 14: {0: 0.4038672116554199,\n",
       "  1: 0.1566297186314069,\n",
       "  2: 0.2883558886868574,\n",
       "  3: 0.15114718102631589},\n",
       " 15: {0: 0.14942754896007593,\n",
       "  1: 0.10374995286571179,\n",
       "  2: 0.6169338788888041,\n",
       "  3: 0.1298886192854083}}"
      ]
     },
     "execution_count": 15,
     "metadata": {},
     "output_type": "execute_result"
    }
   ],
   "source": [
    "policy"
   ]
  },
  {
   "cell_type": "markdown",
   "id": "2ea2b989-d29b-4200-a381-cef453f2f3af",
   "metadata": {},
   "source": [
    "### State sweep policy evaluation"
   ]
  },
  {
   "cell_type": "code",
   "execution_count": 16,
   "id": "8a24eb42-18dc-4af9-bf75-6f84c7f28cad",
   "metadata": {},
   "outputs": [],
   "source": [
    "policy_evaluator = PolicyEvaluator(env=env, policy=policy)\n",
    "sync_state_values, sync_iterations = policy_evaluator.synchronous_state_sweep_policy_evaluation()\n"
   ]
  },
  {
   "cell_type": "code",
   "execution_count": null,
   "id": "69d1a0a0-c46a-430f-9eee-19a134de89ad",
   "metadata": {},
   "outputs": [],
   "source": []
  },
  {
   "cell_type": "markdown",
   "id": "aff62228-f44c-48b0-b2f5-f9c849b39e98",
   "metadata": {},
   "source": [
    "### In place policy evaluation "
   ]
  },
  {
   "cell_type": "code",
   "execution_count": 17,
   "id": "ee358ef9-5bfd-4c04-aeb4-911ff1277285",
   "metadata": {},
   "outputs": [],
   "source": [
    "async_state_values, async_iterations = policy_evaluator.asynchronous_inplace_policy_evaluation()"
   ]
  },
  {
   "cell_type": "code",
   "execution_count": null,
   "id": "6db00572-9ce1-45d5-92c1-175ab8a4d306",
   "metadata": {},
   "outputs": [],
   "source": []
  },
  {
   "cell_type": "code",
   "execution_count": null,
   "id": "31cedf57-3730-4bd3-b719-2944fd9ecff9",
   "metadata": {},
   "outputs": [],
   "source": []
  },
  {
   "cell_type": "code",
   "execution_count": 18,
   "id": "1f427ed0-3137-4752-8480-a64864b1f89b",
   "metadata": {},
   "outputs": [],
   "source": [
    "N = 1000\n",
    "s_number_iterations_batch = []\n",
    "as_number_iterations_batch = []\n",
    "for _ in range(N):\n",
    "    policy = generate_arbitrary_policy(env)\n",
    "    sync_state_values, sync_iterations = policy_evaluator.synchronous_state_sweep_policy_evaluation()\n",
    "    async_state_values, async_iterations = policy_evaluator.asynchronous_inplace_policy_evaluation()\n",
    "    \n",
    "    s_number_iterations_batch.append(sync_iterations)\n",
    "    as_number_iterations_batch.append(async_iterations)\n",
    "    \n",
    "    \n",
    "    \n"
   ]
  },
  {
   "cell_type": "code",
   "execution_count": 19,
   "id": "0cf5b3e5-a764-48f9-8091-528abdc21178",
   "metadata": {},
   "outputs": [
    {
     "data": {
      "text/plain": [
       "-0.2592592592592593"
      ]
     },
     "execution_count": 19,
     "metadata": {},
     "output_type": "execute_result"
    }
   ],
   "source": [
    "pd.Series(as_number_iterations_batch).mean()/pd.Series(s_number_iterations_batch).mean() -1"
   ]
  },
  {
   "cell_type": "code",
   "execution_count": null,
   "id": "95c87ab4-00df-441b-a3b0-5f8d8964132a",
   "metadata": {},
   "outputs": [],
   "source": []
  },
  {
   "cell_type": "code",
   "execution_count": null,
   "id": "eb490766-7f26-47de-b2b6-eb1629250ec0",
   "metadata": {},
   "outputs": [],
   "source": []
  },
  {
   "cell_type": "markdown",
   "id": "9bbbdd65-9804-49bd-a14c-aedb6562533e",
   "metadata": {},
   "source": [
    "## Policy Iteration"
   ]
  },
  {
   "cell_type": "code",
   "execution_count": null,
   "id": "eed6eef4-f7eb-4efe-9fee-d9d9083b7f3b",
   "metadata": {},
   "outputs": [],
   "source": []
  },
  {
   "cell_type": "markdown",
   "id": "76c6722b-d43b-491d-a269-e8837c4a999e",
   "metadata": {},
   "source": [
    "### Synchronous "
   ]
  },
  {
   "cell_type": "code",
   "execution_count": 20,
   "id": "8aeaaa56-d8ba-4a2b-863c-8280270e4493",
   "metadata": {},
   "outputs": [
    {
     "name": "stdout",
     "output_type": "stream",
     "text": [
      "Iteration - 0 - of policy iteration algorithm\n",
      "Iteration - 1 - of policy iteration algorithm\n",
      "Policy iteration algorithm converged!\n"
     ]
    }
   ],
   "source": [
    "policy_iterator = PolicyIterator(env=env, synchronous_evaluation=True)\n",
    "sync_final_policy = policy_iterator.policy_iteration()"
   ]
  },
  {
   "cell_type": "code",
   "execution_count": 21,
   "id": "7e8969b5-c08f-4922-8dbe-7fe2318fc038",
   "metadata": {},
   "outputs": [
    {
     "data": {
      "text/plain": [
       "{0: {0: 0, 1: 1, 2: 0, 3: 0},\n",
       " 1: {0: 0, 1: 0, 2: 1, 3: 0},\n",
       " 2: {0: 0, 1: 1, 2: 0, 3: 0},\n",
       " 3: {0: 1, 1: 0, 2: 0, 3: 0},\n",
       " 4: {0: 0, 1: 1, 2: 0, 3: 0},\n",
       " 5: {0: 1, 1: 0, 2: 0, 3: 0},\n",
       " 6: {0: 0, 1: 1, 2: 0, 3: 0},\n",
       " 7: {0: 1, 1: 0, 2: 0, 3: 0},\n",
       " 8: {0: 0, 1: 0, 2: 1, 3: 0},\n",
       " 9: {0: 0, 1: 1, 2: 0, 3: 0},\n",
       " 10: {0: 0, 1: 1, 2: 0, 3: 0},\n",
       " 11: {0: 1, 1: 0, 2: 0, 3: 0},\n",
       " 12: {0: 1, 1: 0, 2: 0, 3: 0},\n",
       " 13: {0: 0, 1: 0, 2: 1, 3: 0},\n",
       " 14: {0: 0, 1: 0, 2: 1, 3: 0},\n",
       " 15: {0: 1, 1: 0, 2: 0, 3: 0}}"
      ]
     },
     "execution_count": 21,
     "metadata": {},
     "output_type": "execute_result"
    }
   ],
   "source": [
    "sync_final_policy"
   ]
  },
  {
   "cell_type": "markdown",
   "id": "8aaaaae8-aca6-4276-bfb2-ca02e5fb5c20",
   "metadata": {},
   "source": [
    "### Asynchronous "
   ]
  },
  {
   "cell_type": "code",
   "execution_count": 22,
   "id": "b56de2cc-febc-4899-93e9-00787740aef6",
   "metadata": {},
   "outputs": [
    {
     "name": "stdout",
     "output_type": "stream",
     "text": [
      "Iteration - 0 - of policy iteration algorithm\n",
      "Iteration - 1 - of policy iteration algorithm\n",
      "Policy iteration algorithm converged!\n"
     ]
    }
   ],
   "source": [
    "policy_iterator = PolicyIterator(env=env, synchronous_evaluation=True)\n",
    "asynch_final_policy = policy_iterator.policy_iteration()"
   ]
  },
  {
   "cell_type": "code",
   "execution_count": 23,
   "id": "3266f492-c14c-464c-901a-77cb3cce3854",
   "metadata": {},
   "outputs": [
    {
     "data": {
      "text/plain": [
       "{0: {0: 0, 1: 1, 2: 0, 3: 0},\n",
       " 1: {0: 0, 1: 0, 2: 1, 3: 0},\n",
       " 2: {0: 0, 1: 1, 2: 0, 3: 0},\n",
       " 3: {0: 1, 1: 0, 2: 0, 3: 0},\n",
       " 4: {0: 0, 1: 1, 2: 0, 3: 0},\n",
       " 5: {0: 1, 1: 0, 2: 0, 3: 0},\n",
       " 6: {0: 0, 1: 1, 2: 0, 3: 0},\n",
       " 7: {0: 1, 1: 0, 2: 0, 3: 0},\n",
       " 8: {0: 0, 1: 0, 2: 1, 3: 0},\n",
       " 9: {0: 0, 1: 1, 2: 0, 3: 0},\n",
       " 10: {0: 0, 1: 1, 2: 0, 3: 0},\n",
       " 11: {0: 1, 1: 0, 2: 0, 3: 0},\n",
       " 12: {0: 1, 1: 0, 2: 0, 3: 0},\n",
       " 13: {0: 0, 1: 0, 2: 1, 3: 0},\n",
       " 14: {0: 0, 1: 0, 2: 1, 3: 0},\n",
       " 15: {0: 1, 1: 0, 2: 0, 3: 0}}"
      ]
     },
     "execution_count": 23,
     "metadata": {},
     "output_type": "execute_result"
    }
   ],
   "source": [
    "asynch_final_policy"
   ]
  },
  {
   "cell_type": "code",
   "execution_count": null,
   "id": "fecf3811-9fab-4acc-8609-578054070372",
   "metadata": {},
   "outputs": [],
   "source": []
  }
 ],
 "metadata": {
  "kernelspec": {
   "display_name": "Python 3.8 (pytorch)",
   "language": "python",
   "name": "pytorch"
  },
  "language_info": {
   "codemirror_mode": {
    "name": "ipython",
    "version": 3
   },
   "file_extension": ".py",
   "mimetype": "text/x-python",
   "name": "python",
   "nbconvert_exporter": "python",
   "pygments_lexer": "ipython3",
   "version": "3.8.13"
  }
 },
 "nbformat": 4,
 "nbformat_minor": 5
}
