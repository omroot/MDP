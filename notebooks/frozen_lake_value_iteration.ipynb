{
 "cells": [
  {
   "cell_type": "code",
   "execution_count": null,
   "id": "9795c5a7-2021-4d5f-8a99-d946c039fbed",
   "metadata": {},
   "outputs": [],
   "source": []
  },
  {
   "cell_type": "code",
   "execution_count": null,
   "id": "f6df70f2-2919-4f58-81a5-e00d80834ee8",
   "metadata": {},
   "outputs": [],
   "source": []
  },
  {
   "cell_type": "code",
   "execution_count": 1,
   "id": "894d4534-fc4f-4ca0-b60e-16bd85a57827",
   "metadata": {},
   "outputs": [],
   "source": [
    "%load_ext autoreload\n",
    "%autoreload 2"
   ]
  },
  {
   "cell_type": "code",
   "execution_count": 2,
   "id": "89a7950d-0d27-4c5d-95f1-d11c9acf6a98",
   "metadata": {},
   "outputs": [],
   "source": [
    "%matplotlib inline"
   ]
  },
  {
   "cell_type": "code",
   "execution_count": 3,
   "id": "adeb49a5-aa3d-4cc9-8091-aa49429eff9a",
   "metadata": {},
   "outputs": [],
   "source": [
    "import sys"
   ]
  },
  {
   "cell_type": "code",
   "execution_count": 4,
   "id": "970eb167-a063-460e-b3df-464169cba597",
   "metadata": {},
   "outputs": [],
   "source": [
    "sys.path.append('../')"
   ]
  },
  {
   "cell_type": "code",
   "execution_count": null,
   "id": "8e6773f9-eaf8-4eae-9ec6-da6001bb8a4f",
   "metadata": {},
   "outputs": [],
   "source": []
  },
  {
   "cell_type": "code",
   "execution_count": 5,
   "id": "50a2a508-5c74-4d78-b7f0-25a54e994eea",
   "metadata": {},
   "outputs": [],
   "source": [
    "import gym"
   ]
  },
  {
   "cell_type": "code",
   "execution_count": 6,
   "id": "f927d9a6-1c3a-48aa-abbf-5da5f2474cb4",
   "metadata": {},
   "outputs": [],
   "source": [
    "import random\n",
    "import numpy as np\n",
    "import pandas as pd"
   ]
  },
  {
   "cell_type": "code",
   "execution_count": null,
   "id": "3d187083-8c0a-41a7-ba76-943c4352b236",
   "metadata": {},
   "outputs": [],
   "source": []
  },
  {
   "cell_type": "code",
   "execution_count": null,
   "id": "997f290c-fa72-433a-882b-72f8212038e4",
   "metadata": {},
   "outputs": [],
   "source": []
  },
  {
   "cell_type": "code",
   "execution_count": 7,
   "id": "4324c68c-2ee0-40dc-b7f0-ac6d3e985720",
   "metadata": {},
   "outputs": [],
   "source": [
    "from mdp.ValueIteration import ValueIteration\n",
    "from mdp.policySimulation import PolicySimulator"
   ]
  },
  {
   "cell_type": "code",
   "execution_count": 8,
   "id": "f288c8ea-0133-4ed2-8fe3-99039dd8e0c3",
   "metadata": {},
   "outputs": [],
   "source": [
    "from mdp.utils.env import make_env"
   ]
  },
  {
   "cell_type": "code",
   "execution_count": 9,
   "id": "38e50b05-7ce1-41a5-9b51-d09e6979c316",
   "metadata": {},
   "outputs": [],
   "source": [
    "import matplotlib.pyplot as plt "
   ]
  },
  {
   "cell_type": "code",
   "execution_count": 10,
   "id": "376e9500-e64c-4b03-9ff6-792dafc549c6",
   "metadata": {},
   "outputs": [],
   "source": [
    "seed = 0  # Random number generator seed\n",
    "gamma = 0.95  # Discount factor\n",
    "num_iters = 10  # Number of iterations\n",
    "random.seed(seed)  # Set the random seed to ensure results can be reproduced\n",
    "np.random.seed(seed)"
   ]
  },
  {
   "cell_type": "markdown",
   "id": "4ce9448d-2f65-471f-9bdb-f083a6f6a4cd",
   "metadata": {},
   "source": [
    "##  Load and set-up Environment "
   ]
  },
  {
   "cell_type": "code",
   "execution_count": 11,
   "id": "7b3b0b67-9048-489b-ad73-62a72f8405ed",
   "metadata": {},
   "outputs": [],
   "source": [
    "# Now set up the environment\n",
    "env_info = make_env('FrozenLake-v1', seed=seed)"
   ]
  },
  {
   "cell_type": "code",
   "execution_count": 12,
   "id": "c6c89f32-299b-410e-be0e-bd8ec4925da1",
   "metadata": {},
   "outputs": [],
   "source": [
    "env=env_info['env']"
   ]
  },
  {
   "cell_type": "markdown",
   "id": "7a667f68-68d2-490b-982c-5491ac7eed42",
   "metadata": {},
   "source": [
    "## Value Iteration"
   ]
  },
  {
   "cell_type": "markdown",
   "id": "eac0df84-61e6-468b-bcad-1af25b8931ed",
   "metadata": {},
   "source": [
    "### Synchronous"
   ]
  },
  {
   "cell_type": "code",
   "execution_count": 13,
   "id": "37121dc0-ef65-4e93-95c3-0243934b706c",
   "metadata": {},
   "outputs": [
    {
     "name": "stdout",
     "output_type": "stream",
     "text": [
      "Value-iteration (state sweep) converged at iteration #7.\n"
     ]
    }
   ],
   "source": [
    "\n",
    "state_sweep_value_iteration = ValueIteration(env=env, \n",
    "                                 gamma = 0.9,\n",
    "                                 threshold = 1e-6,\n",
    "                                 max_iterations = 10000,\n",
    "                                 inplace=False)\n",
    "state_sweep_value_iteration.fit()\n",
    "\n"
   ]
  },
  {
   "cell_type": "code",
   "execution_count": 14,
   "id": "de07315f-df3b-42aa-80e9-a08c98e42a57",
   "metadata": {},
   "outputs": [],
   "source": [
    "state_sweep_optimal_state_values = state_sweep_value_iteration.optimal_state_values\n",
    "state_sweep_optimal_policy = state_sweep_value_iteration.optimal_policy"
   ]
  },
  {
   "cell_type": "code",
   "execution_count": 15,
   "id": "b60f1b8d-0982-490f-8247-42e333331662",
   "metadata": {},
   "outputs": [
    {
     "data": {
      "text/plain": [
       "array([1, 2, 1, 0, 1, 0, 1, 0, 2, 1, 1, 0, 0, 2, 1, 0])"
      ]
     },
     "execution_count": 15,
     "metadata": {},
     "output_type": "execute_result"
    }
   ],
   "source": [
    "state_sweep_optimal_policy"
   ]
  },
  {
   "cell_type": "markdown",
   "id": "b6f8a95c-75a2-4a31-9a42-84e77653c764",
   "metadata": {},
   "source": [
    "### Asynchronous"
   ]
  },
  {
   "cell_type": "code",
   "execution_count": 16,
   "id": "bfa4da5b-1870-4f9a-9a9c-51ee8bf3f1c1",
   "metadata": {},
   "outputs": [
    {
     "name": "stdout",
     "output_type": "stream",
     "text": [
      "Value-iteration (in-place) converged at iteration #7.\n"
     ]
    }
   ],
   "source": [
    "\n",
    "inplace_value_iteration = ValueIteration(env=env, \n",
    "                                 gamma = 0.9,\n",
    "                                 threshold = 1e-6,\n",
    "                                 max_iterations = 10000,\n",
    "                                 inplace=True)\n",
    "inplace_value_iteration.fit()\n"
   ]
  },
  {
   "cell_type": "code",
   "execution_count": 17,
   "id": "eff11faf-e857-4451-91a8-5a32f5f2004e",
   "metadata": {},
   "outputs": [
    {
     "data": {
      "text/plain": [
       "array([1, 2, 1, 0, 1, 0, 1, 0, 2, 1, 1, 0, 0, 2, 1, 0])"
      ]
     },
     "execution_count": 17,
     "metadata": {},
     "output_type": "execute_result"
    }
   ],
   "source": [
    "inplace_value_iteration.optimal_policy"
   ]
  },
  {
   "cell_type": "code",
   "execution_count": null,
   "id": "9383c8c6-ce5a-4a6e-955d-b336619be7db",
   "metadata": {},
   "outputs": [],
   "source": []
  },
  {
   "cell_type": "code",
   "execution_count": 20,
   "id": "b37d2b50-bdc5-452a-99d5-e586301352dd",
   "metadata": {},
   "outputs": [
    {
     "name": "stdout",
     "output_type": "stream",
     "text": [
      "----------------------------------------------\n",
      "You took an average of inf steps to reach the goal.\n",
      "And you fell in the hole 100.00% of the times.\n",
      "----------------------------------------------\n"
     ]
    }
   ],
   "source": [
    "PolicySimulator(env  ,\n",
    "                state_sweep_value_iteration.optimal_policy,\n",
    "                episodes =1000 ).simulate()"
   ]
  },
  {
   "cell_type": "code",
   "execution_count": 22,
   "id": "b3042f60-c75d-41f3-a4b5-7c7d9934719a",
   "metadata": {},
   "outputs": [
    {
     "name": "stdout",
     "output_type": "stream",
     "text": [
      "----------------------------------------------\n",
      "You took an average of inf steps to reach the goal.\n",
      "And you fell in the hole 100.00% of the times.\n",
      "----------------------------------------------\n"
     ]
    }
   ],
   "source": [
    "PolicySimulator(env  ,\n",
    "                inplace_value_iteration.optimal_policy,\n",
    "                episodes =1000 ).simulate()"
   ]
  },
  {
   "cell_type": "code",
   "execution_count": null,
   "id": "fb8ed68c-ba73-46ae-b8c3-b88fce1c9b87",
   "metadata": {},
   "outputs": [],
   "source": []
  },
  {
   "cell_type": "code",
   "execution_count": null,
   "id": "fecf3811-9fab-4acc-8609-578054070372",
   "metadata": {},
   "outputs": [],
   "source": []
  }
 ],
 "metadata": {
  "kernelspec": {
   "display_name": "Python 3.8 (pytorch)",
   "language": "python",
   "name": "pytorch"
  },
  "language_info": {
   "codemirror_mode": {
    "name": "ipython",
    "version": 3
   },
   "file_extension": ".py",
   "mimetype": "text/x-python",
   "name": "python",
   "nbconvert_exporter": "python",
   "pygments_lexer": "ipython3",
   "version": "3.8.13"
  }
 },
 "nbformat": 4,
 "nbformat_minor": 5
}
