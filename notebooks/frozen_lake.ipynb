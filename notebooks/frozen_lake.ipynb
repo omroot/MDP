{
 "cells": [
  {
   "cell_type": "code",
   "execution_count": null,
   "id": "9795c5a7-2021-4d5f-8a99-d946c039fbed",
   "metadata": {},
   "outputs": [],
   "source": []
  },
  {
   "cell_type": "code",
   "execution_count": null,
   "id": "f6df70f2-2919-4f58-81a5-e00d80834ee8",
   "metadata": {},
   "outputs": [],
   "source": []
  },
  {
   "cell_type": "code",
   "execution_count": 1,
   "id": "894d4534-fc4f-4ca0-b60e-16bd85a57827",
   "metadata": {},
   "outputs": [],
   "source": [
    "%load_ext autoreload\n",
    "%autoreload 2"
   ]
  },
  {
   "cell_type": "code",
   "execution_count": 2,
   "id": "89a7950d-0d27-4c5d-95f1-d11c9acf6a98",
   "metadata": {},
   "outputs": [],
   "source": [
    "%matplotlib inline"
   ]
  },
  {
   "cell_type": "code",
   "execution_count": 3,
   "id": "adeb49a5-aa3d-4cc9-8091-aa49429eff9a",
   "metadata": {},
   "outputs": [],
   "source": [
    "import sys"
   ]
  },
  {
   "cell_type": "code",
   "execution_count": 4,
   "id": "970eb167-a063-460e-b3df-464169cba597",
   "metadata": {},
   "outputs": [],
   "source": [
    "sys.path.append('../')"
   ]
  },
  {
   "cell_type": "code",
   "execution_count": null,
   "id": "8e6773f9-eaf8-4eae-9ec6-da6001bb8a4f",
   "metadata": {},
   "outputs": [],
   "source": []
  },
  {
   "cell_type": "code",
   "execution_count": 5,
   "id": "50a2a508-5c74-4d78-b7f0-25a54e994eea",
   "metadata": {},
   "outputs": [],
   "source": [
    "import gym"
   ]
  },
  {
   "cell_type": "code",
   "execution_count": 6,
   "id": "f927d9a6-1c3a-48aa-abbf-5da5f2474cb4",
   "metadata": {},
   "outputs": [],
   "source": [
    "import random\n",
    "import numpy as np\n",
    "import pandas as pd"
   ]
  },
  {
   "cell_type": "code",
   "execution_count": null,
   "id": "3d187083-8c0a-41a7-ba76-943c4352b236",
   "metadata": {},
   "outputs": [],
   "source": []
  },
  {
   "cell_type": "code",
   "execution_count": null,
   "id": "997f290c-fa72-433a-882b-72f8212038e4",
   "metadata": {},
   "outputs": [],
   "source": []
  },
  {
   "cell_type": "code",
   "execution_count": 7,
   "id": "d9c1e70e-15ec-427a-a2a3-0fce4bb12c7a",
   "metadata": {},
   "outputs": [],
   "source": [
    "from mdp.policyEvaluation import generate_arbitrary_policy\n",
    "from mdp.policyEvaluation import synchronous_state_sweep_policy_evaluation\n",
    "from mdp.policyEvaluation import asynchronous_inplace_policy_evaluation"
   ]
  },
  {
   "cell_type": "code",
   "execution_count": 8,
   "id": "4324c68c-2ee0-40dc-b7f0-ac6d3e985720",
   "metadata": {},
   "outputs": [],
   "source": [
    "from mdp.ValueIteration import value_iteration\n",
    "from mdp.ValueIteration import synchronous_value_iteration"
   ]
  },
  {
   "cell_type": "code",
   "execution_count": 9,
   "id": "2c54bbcd-ccb8-4c99-b1e8-ab21b218345d",
   "metadata": {},
   "outputs": [],
   "source": [
    "from mdp.policyIteration import improvePolicy\n",
    "from mdp.policyIteration import policyIteration"
   ]
  },
  {
   "cell_type": "code",
   "execution_count": 10,
   "id": "11ae6dee-f972-418b-b2eb-10f8097db906",
   "metadata": {},
   "outputs": [],
   "source": [
    "from mdp.utils.env import make_env"
   ]
  },
  {
   "cell_type": "code",
   "execution_count": 11,
   "id": "38e50b05-7ce1-41a5-9b51-d09e6979c316",
   "metadata": {},
   "outputs": [],
   "source": [
    "import matplotlib.pyplot as plt "
   ]
  },
  {
   "cell_type": "code",
   "execution_count": 12,
   "id": "376e9500-e64c-4b03-9ff6-792dafc549c6",
   "metadata": {},
   "outputs": [],
   "source": [
    "seed = 0  # Random number generator seed\n",
    "gamma = 0.95  # Discount factor\n",
    "num_iters = 10  # Number of iterations\n",
    "random.seed(seed)  # Set the random seed to ensure results can be reproduced\n",
    "np.random.seed(seed)"
   ]
  },
  {
   "cell_type": "markdown",
   "id": "4ce9448d-2f65-471f-9bdb-f083a6f6a4cd",
   "metadata": {},
   "source": [
    "##  Load and set-up Environment "
   ]
  },
  {
   "cell_type": "code",
   "execution_count": 13,
   "id": "7b3b0b67-9048-489b-ad73-62a72f8405ed",
   "metadata": {},
   "outputs": [],
   "source": [
    "# Now set up the environment\n",
    "env_info = make_env('FrozenLake-v1', seed=seed)"
   ]
  },
  {
   "cell_type": "code",
   "execution_count": 14,
   "id": "c6c89f32-299b-410e-be0e-bd8ec4925da1",
   "metadata": {},
   "outputs": [],
   "source": [
    "env=env_info['env']"
   ]
  },
  {
   "cell_type": "code",
   "execution_count": 15,
   "id": "b75c6891-7523-413f-852e-75fd071a5447",
   "metadata": {},
   "outputs": [
    {
     "data": {
      "text/plain": [
       "{0: {0: [(1.0, 0, 0.0, False)],\n",
       "  1: [(1.0, 4, 0.0, False)],\n",
       "  2: [(1.0, 1, 0.0, False)],\n",
       "  3: [(1.0, 0, 0.0, False)]},\n",
       " 1: {0: [(1.0, 0, 0.0, False)],\n",
       "  1: [(1.0, 5, 0.0, True)],\n",
       "  2: [(1.0, 2, 0.0, False)],\n",
       "  3: [(1.0, 1, 0.0, False)]},\n",
       " 2: {0: [(1.0, 1, 0.0, False)],\n",
       "  1: [(1.0, 6, 0.0, False)],\n",
       "  2: [(1.0, 3, 0.0, False)],\n",
       "  3: [(1.0, 2, 0.0, False)]},\n",
       " 3: {0: [(1.0, 2, 0.0, False)],\n",
       "  1: [(1.0, 7, 0.0, True)],\n",
       "  2: [(1.0, 3, 0.0, False)],\n",
       "  3: [(1.0, 3, 0.0, False)]},\n",
       " 4: {0: [(1.0, 4, 0.0, False)],\n",
       "  1: [(1.0, 8, 0.0, False)],\n",
       "  2: [(1.0, 5, 0.0, True)],\n",
       "  3: [(1.0, 0, 0.0, False)]},\n",
       " 5: {0: [(1.0, 5, 0, True)],\n",
       "  1: [(1.0, 5, 0, True)],\n",
       "  2: [(1.0, 5, 0, True)],\n",
       "  3: [(1.0, 5, 0, True)]},\n",
       " 6: {0: [(1.0, 5, 0.0, True)],\n",
       "  1: [(1.0, 10, 0.0, False)],\n",
       "  2: [(1.0, 7, 0.0, True)],\n",
       "  3: [(1.0, 2, 0.0, False)]},\n",
       " 7: {0: [(1.0, 7, 0, True)],\n",
       "  1: [(1.0, 7, 0, True)],\n",
       "  2: [(1.0, 7, 0, True)],\n",
       "  3: [(1.0, 7, 0, True)]},\n",
       " 8: {0: [(1.0, 8, 0.0, False)],\n",
       "  1: [(1.0, 12, 0.0, True)],\n",
       "  2: [(1.0, 9, 0.0, False)],\n",
       "  3: [(1.0, 4, 0.0, False)]},\n",
       " 9: {0: [(1.0, 8, 0.0, False)],\n",
       "  1: [(1.0, 13, 0.0, False)],\n",
       "  2: [(1.0, 10, 0.0, False)],\n",
       "  3: [(1.0, 5, 0.0, True)]},\n",
       " 10: {0: [(1.0, 9, 0.0, False)],\n",
       "  1: [(1.0, 14, 0.0, False)],\n",
       "  2: [(1.0, 11, 0.0, True)],\n",
       "  3: [(1.0, 6, 0.0, False)]},\n",
       " 11: {0: [(1.0, 11, 0, True)],\n",
       "  1: [(1.0, 11, 0, True)],\n",
       "  2: [(1.0, 11, 0, True)],\n",
       "  3: [(1.0, 11, 0, True)]},\n",
       " 12: {0: [(1.0, 12, 0, True)],\n",
       "  1: [(1.0, 12, 0, True)],\n",
       "  2: [(1.0, 12, 0, True)],\n",
       "  3: [(1.0, 12, 0, True)]},\n",
       " 13: {0: [(1.0, 12, 0.0, True)],\n",
       "  1: [(1.0, 13, 0.0, False)],\n",
       "  2: [(1.0, 14, 0.0, False)],\n",
       "  3: [(1.0, 9, 0.0, False)]},\n",
       " 14: {0: [(1.0, 13, 0.0, False)],\n",
       "  1: [(1.0, 14, 0.0, False)],\n",
       "  2: [(1.0, 15, 1.0, True)],\n",
       "  3: [(1.0, 10, 0.0, False)]},\n",
       " 15: {0: [(1.0, 15, 0, True)],\n",
       "  1: [(1.0, 15, 0, True)],\n",
       "  2: [(1.0, 15, 0, True)],\n",
       "  3: [(1.0, 15, 0, True)]}}"
      ]
     },
     "execution_count": 15,
     "metadata": {},
     "output_type": "execute_result"
    }
   ],
   "source": [
    "env.P"
   ]
  },
  {
   "cell_type": "markdown",
   "id": "aadc3a9f-b63a-42ab-954f-1bd33ac02055",
   "metadata": {},
   "source": [
    "## Policy Evaluation "
   ]
  },
  {
   "cell_type": "markdown",
   "id": "e5fada21-df0d-40e1-81ec-d8fcb273bd00",
   "metadata": {},
   "source": [
    "### Generate an arbitrary policy"
   ]
  },
  {
   "cell_type": "code",
   "execution_count": 16,
   "id": "66fb87f9-3a55-4cdf-9e9e-6d40b25006b1",
   "metadata": {},
   "outputs": [],
   "source": [
    "policy = generate_arbitrary_policy(env)"
   ]
  },
  {
   "cell_type": "code",
   "execution_count": 17,
   "id": "ed103c64-53e3-4607-bafa-87fd68bec164",
   "metadata": {},
   "outputs": [
    {
     "data": {
      "text/plain": [
       "{0: {0: 0.2275676958864965,\n",
       "  1: 0.29655610706227664,\n",
       "  2: 0.2499382243253878,\n",
       "  3: 0.22593797272583904},\n",
       " 1: {0: 0.17660310472827,\n",
       "  1: 0.2692449274061814,\n",
       "  2: 0.18241091619631808,\n",
       "  3: 0.37174105166923044},\n",
       " 2: {0: 0.3612302752574101,\n",
       "  1: 0.1437335664175093,\n",
       "  2: 0.2967791899378672,\n",
       "  3: 0.19825696838721354},\n",
       " 3: {0: 0.34389290839676195,\n",
       "  1: 0.5603541372383523,\n",
       "  2: 0.043005070953708896,\n",
       "  3: 0.05274788341117701},\n",
       " 4: {0: 0.008084102239973011,\n",
       "  1: 0.3329138215977038,\n",
       "  2: 0.31113735655710123,\n",
       "  3: 0.34786471960522186},\n",
       " 5: {0: 0.3240688320611365,\n",
       "  1: 0.26464084246212655,\n",
       "  2: 0.15281859279728796,\n",
       "  3: 0.258471732679449},\n",
       " 6: {0: 0.06406309990748013,\n",
       "  1: 0.34661190718973506,\n",
       "  2: 0.07764701376380721,\n",
       "  3: 0.5116779791389775},\n",
       " 7: {0: 0.2641869271128106,\n",
       "  1: 0.20992357194778705,\n",
       "  2: 0.13393189419097806,\n",
       "  3: 0.3919576067484244},\n",
       " 8: {0: 0.2746223369775663,\n",
       "  1: 0.3422219571717576,\n",
       "  2: 0.011312276990131154,\n",
       "  3: 0.371843428860545},\n",
       " 9: {0: 0.21442448354447244,\n",
       "  1: 0.21611938909249173,\n",
       "  2: 0.33060628725117847,\n",
       "  3: 0.23884984011185742},\n",
       " 10: {0: 0.23128455030733402,\n",
       "  1: 0.28115860247602736,\n",
       "  2: 0.4488116037864071,\n",
       "  3: 0.03874524343023143},\n",
       " 11: {0: 0.3976628910051098,\n",
       "  1: 0.3999716660595614,\n",
       "  2: 0.12547317602343622,\n",
       "  3: 0.07689226691189269},\n",
       " 12: {0: 0.18687206637534595,\n",
       "  1: 0.21547645647538707,\n",
       "  2: 0.3378068217912001,\n",
       "  3: 0.25984465535806683},\n",
       " 13: {0: 0.6766880096318167,\n",
       "  1: 0.06986475887901912,\n",
       "  2: 0.14300701910292204,\n",
       "  3: 0.11044021238624196},\n",
       " 14: {0: 0.4038672116554199,\n",
       "  1: 0.1566297186314069,\n",
       "  2: 0.2883558886868574,\n",
       "  3: 0.15114718102631589},\n",
       " 15: {0: 0.14942754896007593,\n",
       "  1: 0.10374995286571179,\n",
       "  2: 0.6169338788888041,\n",
       "  3: 0.1298886192854083}}"
      ]
     },
     "execution_count": 17,
     "metadata": {},
     "output_type": "execute_result"
    }
   ],
   "source": [
    "policy"
   ]
  },
  {
   "cell_type": "markdown",
   "id": "2ea2b989-d29b-4200-a381-cef453f2f3af",
   "metadata": {},
   "source": [
    "### State sweep policy evaluation"
   ]
  },
  {
   "cell_type": "code",
   "execution_count": 18,
   "id": "eaf3ad0e-09b1-4a3c-b773-5f902d06637e",
   "metadata": {
    "tags": []
   },
   "outputs": [],
   "source": [
    "sv,number_iterations=synchronous_state_sweep_policy_evaluation(env, policy, gamma = 0.9, theta=1e-10)"
   ]
  },
  {
   "cell_type": "code",
   "execution_count": 19,
   "id": "8c42868d-e0d2-402b-bcf2-c12525c6fafb",
   "metadata": {},
   "outputs": [
    {
     "data": {
      "text/plain": [
       "({0: 0.0010423898017230234,\n",
       "  1: 0.0020549338263810986,\n",
       "  2: 0.007320106374633377,\n",
       "  3: 0.002479255851789554,\n",
       "  4: 0.0005795690927488232,\n",
       "  5: 0.0,\n",
       "  6: 0.0362065295086028,\n",
       "  7: 0.0,\n",
       "  8: 0.0008310552007990424,\n",
       "  9: 0.042401667963629194,\n",
       "  10: 0.10525876135613825,\n",
       "  11: 0.0,\n",
       "  12: 0.0,\n",
       "  13: 0.056152099954077044,\n",
       "  14: 0.37610265825488004,\n",
       "  15: 0.0},\n",
       " 55)"
      ]
     },
     "execution_count": 19,
     "metadata": {},
     "output_type": "execute_result"
    }
   ],
   "source": [
    "sv,number_iterations"
   ]
  },
  {
   "cell_type": "markdown",
   "id": "aff62228-f44c-48b0-b2f5-f9c849b39e98",
   "metadata": {},
   "source": [
    "### In place policy evaluation "
   ]
  },
  {
   "cell_type": "code",
   "execution_count": 20,
   "id": "ee358ef9-5bfd-4c04-aeb4-911ff1277285",
   "metadata": {},
   "outputs": [],
   "source": [
    "asv,number_iterations = asynchronous_inplace_policy_evaluation(env, policy, gamma = 0.9, theta = 1e-10)"
   ]
  },
  {
   "cell_type": "code",
   "execution_count": 21,
   "id": "b3c530c2-e6e9-4001-b9c9-02bd5aacb095",
   "metadata": {},
   "outputs": [
    {
     "data": {
      "text/plain": [
       "({0: 0.0010423898810311546,\n",
       "  1: 0.0020549338993577086,\n",
       "  2: 0.007320106464126542,\n",
       "  3: 0.002479255900199326,\n",
       "  4: 0.0005795691629630125,\n",
       "  5: 0.0,\n",
       "  6: 0.0362065295779014,\n",
       "  7: 0.0,\n",
       "  8: 0.0008310552577103811,\n",
       "  9: 0.04240166798719282,\n",
       "  10: 0.10525876136917989,\n",
       "  11: 0.0,\n",
       "  12: 0.0,\n",
       "  13: 0.05615209995908131,\n",
       "  14: 0.37610265826129125,\n",
       "  15: 0.0},\n",
       " 42)"
      ]
     },
     "execution_count": 21,
     "metadata": {},
     "output_type": "execute_result"
    }
   ],
   "source": [
    "asv,number_iterations"
   ]
  },
  {
   "cell_type": "code",
   "execution_count": 22,
   "id": "3737b352-6cf5-46f0-b2c5-6f872721868d",
   "metadata": {},
   "outputs": [
    {
     "data": {
      "text/plain": [
       "({0: 0.0010423898017230234,\n",
       "  1: 0.0020549338263810986,\n",
       "  2: 0.007320106374633377,\n",
       "  3: 0.002479255851789554,\n",
       "  4: 0.0005795690927488232,\n",
       "  5: 0.0,\n",
       "  6: 0.0362065295086028,\n",
       "  7: 0.0,\n",
       "  8: 0.0008310552007990424,\n",
       "  9: 0.042401667963629194,\n",
       "  10: 0.10525876135613825,\n",
       "  11: 0.0,\n",
       "  12: 0.0,\n",
       "  13: 0.056152099954077044,\n",
       "  14: 0.37610265825488004,\n",
       "  15: 0.0},\n",
       " {0: 0.0010423898810311546,\n",
       "  1: 0.0020549338993577086,\n",
       "  2: 0.007320106464126542,\n",
       "  3: 0.002479255900199326,\n",
       "  4: 0.0005795691629630125,\n",
       "  5: 0.0,\n",
       "  6: 0.0362065295779014,\n",
       "  7: 0.0,\n",
       "  8: 0.0008310552577103811,\n",
       "  9: 0.04240166798719282,\n",
       "  10: 0.10525876136917989,\n",
       "  11: 0.0,\n",
       "  12: 0.0,\n",
       "  13: 0.05615209995908131,\n",
       "  14: 0.37610265826129125,\n",
       "  15: 0.0})"
      ]
     },
     "execution_count": 22,
     "metadata": {},
     "output_type": "execute_result"
    }
   ],
   "source": [
    "sv, asv"
   ]
  },
  {
   "cell_type": "code",
   "execution_count": 23,
   "id": "1f427ed0-3137-4752-8480-a64864b1f89b",
   "metadata": {},
   "outputs": [],
   "source": [
    "N = 1000\n",
    "s_number_iterations_batch = []\n",
    "as_number_iterations_batch = []\n",
    "for _ in range(N):\n",
    "    policy = generate_arbitrary_policy(env)\n",
    "    sv,s_number_iterations=synchronous_state_sweep_policy_evaluation(env, policy, gamma = 0.9, theta=1e-10)\n",
    "    asv,as_number_iterations = asynchronous_inplace_policy_evaluation(env, policy, gamma = 0.9, theta = 1e-10)\n",
    "    \n",
    "    s_number_iterations_batch.append(s_number_iterations)\n",
    "    as_number_iterations_batch.append(as_number_iterations)\n",
    "    \n",
    "    \n",
    "    \n"
   ]
  },
  {
   "cell_type": "code",
   "execution_count": 24,
   "id": "0cf5b3e5-a764-48f9-8091-528abdc21178",
   "metadata": {},
   "outputs": [
    {
     "data": {
      "text/plain": [
       "-0.20799159688048585"
      ]
     },
     "execution_count": 24,
     "metadata": {},
     "output_type": "execute_result"
    }
   ],
   "source": [
    "pd.Series(as_number_iterations_batch).mean()/pd.Series(s_number_iterations_batch).mean() -1"
   ]
  },
  {
   "cell_type": "code",
   "execution_count": null,
   "id": "95c87ab4-00df-441b-a3b0-5f8d8964132a",
   "metadata": {},
   "outputs": [],
   "source": []
  },
  {
   "cell_type": "code",
   "execution_count": null,
   "id": "eb490766-7f26-47de-b2b6-eb1629250ec0",
   "metadata": {},
   "outputs": [],
   "source": []
  },
  {
   "cell_type": "markdown",
   "id": "9bbbdd65-9804-49bd-a14c-aedb6562533e",
   "metadata": {},
   "source": [
    "## Policy Iteration"
   ]
  },
  {
   "cell_type": "code",
   "execution_count": null,
   "id": "eed6eef4-f7eb-4efe-9fee-d9d9083b7f3b",
   "metadata": {},
   "outputs": [],
   "source": []
  },
  {
   "cell_type": "markdown",
   "id": "76c6722b-d43b-491d-a269-e8837c4a999e",
   "metadata": {},
   "source": [
    "### Synchronous "
   ]
  },
  {
   "cell_type": "code",
   "execution_count": 32,
   "id": "54b15f8b-930a-4bc2-a0e6-f5e50dbc872c",
   "metadata": {},
   "outputs": [
    {
     "name": "stdout",
     "output_type": "stream",
     "text": [
      "Iteration - 0 - of policy iteration algorithm\n",
      "Iteration - 1 - of policy iteration algorithm\n",
      "Policy iteration algorithm converged!\n"
     ]
    }
   ],
   "source": [
    "currentPolicy = policyIteration(env, \n",
    "                    discountRate =0.9,\n",
    "                   stateNumber =16,\n",
    "                   actionNumber =4,\n",
    "                   maxNumberOfIterationsOfPolicyIteration =1000,\n",
    "                    maxNumberOfIterationsOfIterativePolicyEvaluation =1000,\n",
    "                    convergenceToleranceIterativePolicyEvaluation =10e-10\n",
    "                   )"
   ]
  },
  {
   "cell_type": "code",
   "execution_count": 33,
   "id": "803339c0-72b7-4bc1-b954-a568b1a80427",
   "metadata": {},
   "outputs": [
    {
     "data": {
      "text/plain": [
       "{0: {0: 0, 1: 1, 2: 0, 3: 0},\n",
       " 1: {0: 0, 1: 0, 2: 1, 3: 0},\n",
       " 2: {0: 0, 1: 1, 2: 0, 3: 0},\n",
       " 3: {0: 1, 1: 0, 2: 0, 3: 0},\n",
       " 4: {0: 0, 1: 1, 2: 0, 3: 0},\n",
       " 5: {0: 1, 1: 0, 2: 0, 3: 0},\n",
       " 6: {0: 0, 1: 1, 2: 0, 3: 0},\n",
       " 7: {0: 1, 1: 0, 2: 0, 3: 0},\n",
       " 8: {0: 0, 1: 0, 2: 1, 3: 0},\n",
       " 9: {0: 0, 1: 1, 2: 0, 3: 0},\n",
       " 10: {0: 0, 1: 1, 2: 0, 3: 0},\n",
       " 11: {0: 1, 1: 0, 2: 0, 3: 0},\n",
       " 12: {0: 1, 1: 0, 2: 0, 3: 0},\n",
       " 13: {0: 0, 1: 0, 2: 1, 3: 0},\n",
       " 14: {0: 0, 1: 0, 2: 1, 3: 0},\n",
       " 15: {0: 1, 1: 0, 2: 0, 3: 0}}"
      ]
     },
     "execution_count": 33,
     "metadata": {},
     "output_type": "execute_result"
    }
   ],
   "source": [
    "currentPolicy"
   ]
  },
  {
   "cell_type": "markdown",
   "id": "8aaaaae8-aca6-4276-bfb2-ca02e5fb5c20",
   "metadata": {},
   "source": [
    "### Asynchronous "
   ]
  },
  {
   "cell_type": "code",
   "execution_count": 34,
   "id": "b56de2cc-febc-4899-93e9-00787740aef6",
   "metadata": {},
   "outputs": [
    {
     "name": "stdout",
     "output_type": "stream",
     "text": [
      "Iteration - 0 - of policy iteration algorithm\n",
      "Iteration - 1 - of policy iteration algorithm\n",
      "Policy iteration algorithm converged!\n"
     ]
    }
   ],
   "source": [
    "async_currentPolicy = policyIteration(env, \n",
    "                    discountRate =0.9,\n",
    "                   stateNumber =16,\n",
    "                   actionNumber =4,\n",
    "                   maxNumberOfIterationsOfPolicyIteration =1000,\n",
    "                    maxNumberOfIterationsOfIterativePolicyEvaluation =1000,\n",
    "                    convergenceToleranceIterativePolicyEvaluation =10e-10,\n",
    "                                      synchronous_evaluation = False\n",
    "                   )"
   ]
  },
  {
   "cell_type": "code",
   "execution_count": 35,
   "id": "3266f492-c14c-464c-901a-77cb3cce3854",
   "metadata": {},
   "outputs": [
    {
     "data": {
      "text/plain": [
       "{0: {0: 0, 1: 1, 2: 0, 3: 0},\n",
       " 1: {0: 0, 1: 0, 2: 1, 3: 0},\n",
       " 2: {0: 0, 1: 1, 2: 0, 3: 0},\n",
       " 3: {0: 1, 1: 0, 2: 0, 3: 0},\n",
       " 4: {0: 0, 1: 1, 2: 0, 3: 0},\n",
       " 5: {0: 1, 1: 0, 2: 0, 3: 0},\n",
       " 6: {0: 0, 1: 1, 2: 0, 3: 0},\n",
       " 7: {0: 1, 1: 0, 2: 0, 3: 0},\n",
       " 8: {0: 0, 1: 0, 2: 1, 3: 0},\n",
       " 9: {0: 0, 1: 1, 2: 0, 3: 0},\n",
       " 10: {0: 0, 1: 1, 2: 0, 3: 0},\n",
       " 11: {0: 1, 1: 0, 2: 0, 3: 0},\n",
       " 12: {0: 1, 1: 0, 2: 0, 3: 0},\n",
       " 13: {0: 0, 1: 0, 2: 1, 3: 0},\n",
       " 14: {0: 0, 1: 0, 2: 1, 3: 0},\n",
       " 15: {0: 1, 1: 0, 2: 0, 3: 0}}"
      ]
     },
     "execution_count": 35,
     "metadata": {},
     "output_type": "execute_result"
    }
   ],
   "source": [
    "async_currentPolicy"
   ]
  },
  {
   "cell_type": "markdown",
   "id": "7a667f68-68d2-490b-982c-5491ac7eed42",
   "metadata": {},
   "source": [
    "## Value Iteration"
   ]
  },
  {
   "cell_type": "markdown",
   "id": "eac0df84-61e6-468b-bcad-1af25b8931ed",
   "metadata": {},
   "source": [
    "### Synchronous"
   ]
  },
  {
   "cell_type": "code",
   "execution_count": 36,
   "id": "dccb5138-dcdf-4ab8-9905-668a662eeb7e",
   "metadata": {},
   "outputs": [
    {
     "data": {
      "image/png": "[encoded data removed]",
      "text/plain": [
       "<Figure size 1080x1080 with 10 Axes>"
      ]
     },
     "metadata": {},
     "output_type": "display_data"
    }
   ],
   "source": [
    "sV, spi =  synchronous_value_iteration(env_info=env_info, gamma=gamma, num_iters=num_iters)"
   ]
  },
  {
   "cell_type": "code",
   "execution_count": 41,
   "id": "b8d851a4-5074-462a-a48b-2589f774067a",
   "metadata": {},
   "outputs": [
    {
     "data": {
      "text/plain": [
       "(11, 16)"
      ]
     },
     "execution_count": 41,
     "metadata": {},
     "output_type": "execute_result"
    }
   ],
   "source": [
    "spi.shape"
   ]
  },
  {
   "cell_type": "code",
   "execution_count": 39,
   "id": "9515311a-fc45-4443-a772-49cf622c8889",
   "metadata": {},
   "outputs": [
    {
     "data": {
      "text/plain": [
       "array([[1., 2., 1., 0., 1., 0., 1., 0., 2., 1., 1., 0., 0., 2., 2., 0.]])"
      ]
     },
     "execution_count": 39,
     "metadata": {},
     "output_type": "execute_result"
    }
   ],
   "source": [
    "spi[-1:]"
   ]
  },
  {
   "cell_type": "code",
   "execution_count": null,
   "id": "a978cf78-4035-4c61-970e-acd998438066",
   "metadata": {},
   "outputs": [],
   "source": []
  },
  {
   "cell_type": "code",
   "execution_count": 43,
   "id": "c1de309c-ea6c-45b5-9e67-dffc7cd76720",
   "metadata": {},
   "outputs": [
    {
     "name": "stdout",
     "output_type": "stream",
     "text": [
      "1\n",
      "2\n",
      "1\n",
      "0\n",
      "1\n",
      "0\n",
      "1\n",
      "0\n",
      "2\n",
      "1\n",
      "1\n",
      "0\n",
      "0\n",
      "2\n",
      "2\n",
      "0\n"
     ]
    }
   ],
   "source": [
    "for s in range(16):\n",
    "    q=[]\n",
    "    for a in range(4):\n",
    "        q.append(async_currentPolicy[s][a])\n",
    "    print(np.argmax(q))\n"
   ]
  },
  {
   "cell_type": "markdown",
   "id": "b6f8a95c-75a2-4a31-9a42-84e77653c764",
   "metadata": {},
   "source": [
    "### Asynchronous"
   ]
  },
  {
   "cell_type": "code",
   "execution_count": 37,
   "id": "354c2e34-a433-4f0b-ae12-39e04e72d34f",
   "metadata": {},
   "outputs": [
    {
     "data": {
      "image/png": "[encoded data removed]",
      "text/plain": [
       "<Figure size 1080x1080 with 10 Axes>"
      ]
     },
     "metadata": {},
     "output_type": "display_data"
    }
   ],
   "source": [
    "asV, aspi = value_iteration(env_info=env_info, gamma=gamma, num_iters=num_iters)"
   ]
  },
  {
   "cell_type": "code",
   "execution_count": null,
   "id": "f9afd373-4c16-48f9-a424-fc86831b6c3e",
   "metadata": {},
   "outputs": [],
   "source": [
    "asV.shape"
   ]
  },
  {
   "cell_type": "code",
   "execution_count": null,
   "id": "b4ee4aba-f5c1-4c0f-84f8-59d167b31796",
   "metadata": {},
   "outputs": [],
   "source": [
    "aspi[10,:]"
   ]
  },
  {
   "cell_type": "code",
   "execution_count": null,
   "id": "1ccb6ccd-45ce-4929-a766-67d54b0a7fde",
   "metadata": {},
   "outputs": [],
   "source": [
    "asV[:-1], aspi[:-1]"
   ]
  },
  {
   "cell_type": "code",
   "execution_count": null,
   "id": "13751881-ce7c-4804-9b2d-b83012a7ae84",
   "metadata": {},
   "outputs": [],
   "source": [
    "sV"
   ]
  },
  {
   "cell_type": "code",
   "execution_count": null,
   "id": "fed053c0-67dd-4467-8ead-54c2826c20ba",
   "metadata": {},
   "outputs": [],
   "source": [
    "asV"
   ]
  },
  {
   "cell_type": "code",
   "execution_count": null,
   "id": "476dce2b-83c1-4d52-bfe6-c5677c1fce7b",
   "metadata": {},
   "outputs": [],
   "source": [
    "spi, aspi"
   ]
  },
  {
   "cell_type": "code",
   "execution_count": null,
   "id": "490760dc-e0fd-41d1-acef-466abfe1201b",
   "metadata": {},
   "outputs": [],
   "source": []
  },
  {
   "cell_type": "code",
   "execution_count": null,
   "id": "41e41747-5b8b-4f4c-86d2-d9c5b9cf4714",
   "metadata": {},
   "outputs": [],
   "source": []
  },
  {
   "cell_type": "code",
   "execution_count": null,
   "id": "c14b4215-7442-44d2-a3ea-5242849fc42c",
   "metadata": {},
   "outputs": [],
   "source": []
  },
  {
   "cell_type": "code",
   "execution_count": null,
   "id": "a44d2d20-c60f-403b-b484-dc470545b39b",
   "metadata": {},
   "outputs": [],
   "source": []
  }
 ],
 "metadata": {
  "kernelspec": {
   "display_name": "Python 3.8 (pytorch)",
   "language": "python",
   "name": "pytorch"
  },
  "language_info": {
   "codemirror_mode": {
    "name": "ipython",
    "version": 3
   },
   "file_extension": ".py",
   "mimetype": "text/x-python",
   "name": "python",
   "nbconvert_exporter": "python",
   "pygments_lexer": "ipython3",
   "version": "3.8.13"
  }
 },
 "nbformat": 4,
 "nbformat_minor": 5
}
